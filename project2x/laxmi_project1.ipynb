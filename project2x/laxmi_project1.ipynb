{
 "cells": [
  {
   "cell_type": "markdown",
   "metadata": {},
   "source": [
    " Data from US General Social Survey (Available at: https://gssdataexplorer.norc.org)\n",
    "‘The target population of the GSS is adults (18+) living in households in the United States’"
   ]
  },
  {
   "cell_type": "code",
   "execution_count": 3,
   "metadata": {},
   "outputs": [],
   "source": [
    "import pandas as pd\n",
    "import numpy as np\n",
    "import math"
   ]
  },
  {
   "cell_type": "code",
   "execution_count": 14,
   "metadata": {},
   "outputs": [
    {
     "data": {
      "text/plain": [
       "(62468, 12)"
      ]
     },
     "execution_count": 14,
     "metadata": {},
     "output_type": "execute_result"
    }
   ],
   "source": [
    "my_file=\"CN_GSS.csv\"\n",
    "df=pd.read_csv(my_file)\n",
    "df.shape"
   ]
  },
  {
   "cell_type": "code",
   "execution_count": 15,
   "metadata": {},
   "outputs": [
    {
     "data": {
      "text/plain": [
       "(62466, 12)"
      ]
     },
     "execution_count": 15,
     "metadata": {},
     "output_type": "execute_result"
    }
   ],
   "source": [
    "dfclean = df.dropna(how=\"any\")\n",
    "dfclean.shape"
   ]
  },
  {
   "cell_type": "code",
   "execution_count": null,
   "metadata": {},
   "outputs": [],
   "source": []
  },
  {
   "cell_type": "code",
   "execution_count": null,
   "metadata": {},
   "outputs": [],
   "source": []
  },
  {
   "cell_type": "code",
   "execution_count": null,
   "metadata": {},
   "outputs": [],
   "source": []
  },
  {
   "cell_type": "code",
   "execution_count": 17,
   "metadata": {},
   "outputs": [],
   "source": [
    "dfhappy = df"
   ]
  },
  {
   "cell_type": "code",
   "execution_count": 18,
   "metadata": {},
   "outputs": [],
   "source": [
    "# dfhappy = dfhappy.rename(columns={dfhappy.columns[0]: \"Year\"})"
   ]
  },
  {
   "cell_type": "code",
   "execution_count": 19,
   "metadata": {},
   "outputs": [],
   "source": [
    "# dfclean = dfclean.rename(columns={dfclean.columns[1]: \"Health Condition\"})\n",
    "# dfclean = dfclean.rename(columns={dfclean.columns[2]: \"Happiness level\"})\n",
    "# dfclean = dfclean.rename(columns={dfclean.columns[3]: \"Geographic region\"})\n",
    "# dfclean = dfclean.rename(columns={dfclean.columns[4]: \"Respondents income\"})\n",
    "# dfclean = dfclean.rename(columns={dfclean.columns[5]: \"Respondents race\"})\n",
    "# dfclean = dfclean.rename(columns={dfclean.columns[6]: \"Respondents sex\"})\n",
    "# dfclean = dfclean.rename(columns={dfclean.columns[7]: \"Respondents degree\"})\n",
    "# dfclean = dfclean.rename(columns={dfclean.columns[8]: \"Respondents age\"})\n",
    "# dfclean = dfclean.rename(columns={dfclean.columns[9]:  \"Respondents marital status\"})\n",
    "# dfclean = dfclean.rename(columns={dfclean.columns[10]: \"Respondents employment status\"})\n",
    "# dfclean = dfclean.rename(columns={dfclean.columns[11]: \"Respondents ID \"})"
   ]
  },
  {
   "cell_type": "code",
   "execution_count": null,
   "metadata": {},
   "outputs": [],
   "source": [
    "dfhappy"
   ]
  },
  {
   "cell_type": "code",
   "execution_count": null,
   "metadata": {
    "scrolled": true
   },
   "outputs": [],
   "source": [
    "US_happylist= [df]\n",
    "usTable=pd.concat(US_happylist, sort=False)\n",
    "usTable.head()"
   ]
  },
  {
   "cell_type": "code",
   "execution_count": null,
   "metadata": {},
   "outputs": [],
   "source": [
    "del usTable[\"Ballot used for interview\"]"
   ]
  },
  {
   "cell_type": "code",
   "execution_count": null,
   "metadata": {},
   "outputs": [],
   "source": [
    "usTable"
   ]
  },
  {
   "cell_type": "code",
   "execution_count": null,
   "metadata": {},
   "outputs": [],
   "source": [
    "usTable.isnull().any()"
   ]
  },
  {
   "cell_type": "code",
   "execution_count": null,
   "metadata": {},
   "outputs": [],
   "source": [
    "usTable.count()"
   ]
  },
  {
   "cell_type": "code",
   "execution_count": null,
   "metadata": {},
   "outputs": [],
   "source": []
  },
  {
   "cell_type": "code",
   "execution_count": null,
   "metadata": {},
   "outputs": [],
   "source": [
    "#Removes NaN values and replaces with \"Unknown\" in the column, and removed rows with  blanks\n",
    "\n",
    "# usTable.drop(usTable.loc[(usTable[\"Condition of health\"].isnull()),:].index[:])\n",
    "# usTable=usTable.drop(usTable.loc[(usTable[\"General happiness\"].isnull()),:].index[:])\n",
    "# usTable=usTable.drop(usTable.loc[(usTable[\"Region of interview\"].isnull()),:].index[:])\n",
    "# usTable=usTable.drop(usTable.loc[(usTable[\"Rs highest degree\"].isnull()),:].index[:])\n",
    "# usTable=usTable.drop(usTable.loc[(usTable[\"Age of respondent\"].isnull()),:].index[:])\n",
    "# usTable=usTable.drop(usTable.loc[(usTable[\"Marital status\"].isnull()),:].index[:])\n",
    "# usTable=usTable.drop(usTable.loc[(usTable[\"Labor force status\"].isnull()),:].index[:])\n",
    "# usTable=usTable.drop(usTable.loc[(usTable[\"Respondent id number\"].isnull()),:].index[:])\n",
    "# usTable=usTable.drop(usTable.loc[(usTable[\"Ballot used for interview\"].isnull()),:].index[:])\n"
   ]
  },
  {
   "cell_type": "code",
   "execution_count": null,
   "metadata": {},
   "outputs": [],
   "source": []
  }
 ],
 "metadata": {
  "kernelspec": {
   "display_name": "Python 3",
   "language": "python",
   "name": "python3"
  },
  "language_info": {
   "codemirror_mode": {
    "name": "ipython",
    "version": 3
   },
   "file_extension": ".py",
   "mimetype": "text/x-python",
   "name": "python",
   "nbconvert_exporter": "python",
   "pygments_lexer": "ipython3",
   "version": "3.6.5"
  }
 },
 "nbformat": 4,
 "nbformat_minor": 2
}
