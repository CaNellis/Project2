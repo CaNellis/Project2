{
 "cells": [
  {
   "cell_type": "markdown",
   "metadata": {},
   "source": [
    " Data from US General Social Survey (Available at: https://gssdataexplorer.norc.org)\n",
    "‘The target population of the GSS is adults (18+) living in households in the United States’\n",
    "\n",
    "using GSS data explorer, we selected variables of interest and limited year variable"
   ]
  },
  {
   "cell_type": "markdown",
   "metadata": {},
   "source": [
    "Step 1: Clean Data"
   ]
  },
  {
   "cell_type": "code",
   "execution_count": 57,
   "metadata": {},
   "outputs": [],
   "source": [
    "# import dependencies\n",
    "import pandas as pd\n",
    "import numpy as np\n",
    "import math"
   ]
  },
  {
   "cell_type": "code",
   "execution_count": 58,
   "metadata": {},
   "outputs": [],
   "source": [
    "#import and read csv file\n",
    "my_file=\"CN_GSS2.csv\"\n",
    "df=pd.read_csv(my_file)"
   ]
  },
  {
   "cell_type": "code",
   "execution_count": 42,
   "metadata": {},
   "outputs": [
    {
     "data": {
      "text/plain": [
       "(24350, 12)"
      ]
     },
     "execution_count": 42,
     "metadata": {},
     "output_type": "execute_result"
    }
   ],
   "source": [
    "# view shape of dataset\n",
    "df.shape"
   ]
  },
  {
   "cell_type": "code",
   "execution_count": 43,
   "metadata": {},
   "outputs": [
    {
     "data": {
      "text/plain": [
       "Year                  int64\n",
       "Health Condition     object\n",
       "General happiness    object\n",
       "U.S. Region          object\n",
       "Income               object\n",
       "Race                 object\n",
       "Sex                  object\n",
       "Highest Degree       object\n",
       "Age                  object\n",
       "Marital status       object\n",
       "Work Status          object\n",
       "ID                    int64\n",
       "dtype: object"
      ]
     },
     "execution_count": 43,
     "metadata": {},
     "output_type": "execute_result"
    }
   ],
   "source": [
    "# view data types\n",
    "df.dtypes"
   ]
  },
  {
   "cell_type": "code",
   "execution_count": 48,
   "metadata": {},
   "outputs": [],
   "source": [
    "# Note: In Excel, the Find Replace tool was used to replace any cells contianing \"Not applicable\" to \"NaN\""
   ]
  },
  {
   "cell_type": "code",
   "execution_count": 49,
   "metadata": {},
   "outputs": [
    {
     "data": {
      "text/html": [
       "<div>\n",
       "<style scoped>\n",
       "    .dataframe tbody tr th:only-of-type {\n",
       "        vertical-align: middle;\n",
       "    }\n",
       "\n",
       "    .dataframe tbody tr th {\n",
       "        vertical-align: top;\n",
       "    }\n",
       "\n",
       "    .dataframe thead th {\n",
       "        text-align: right;\n",
       "    }\n",
       "</style>\n",
       "<table border=\"1\" class=\"dataframe\">\n",
       "  <thead>\n",
       "    <tr style=\"text-align: right;\">\n",
       "      <th></th>\n",
       "      <th>Year</th>\n",
       "      <th>Health Condition</th>\n",
       "      <th>General happiness</th>\n",
       "      <th>U.S. Region</th>\n",
       "      <th>Income</th>\n",
       "      <th>Race</th>\n",
       "      <th>Sex</th>\n",
       "      <th>Highest Degree</th>\n",
       "      <th>Age</th>\n",
       "      <th>Marital status</th>\n",
       "      <th>Work Status</th>\n",
       "      <th>ID</th>\n",
       "    </tr>\n",
       "  </thead>\n",
       "  <tbody>\n",
       "    <tr>\n",
       "      <th>0</th>\n",
       "      <td>2000</td>\n",
       "      <td>Excellent</td>\n",
       "      <td>Pretty happy</td>\n",
       "      <td>W. sou. central</td>\n",
       "      <td>$8000 to 9999</td>\n",
       "      <td>White</td>\n",
       "      <td>Male</td>\n",
       "      <td>Bachelor</td>\n",
       "      <td>26</td>\n",
       "      <td>Never married</td>\n",
       "      <td>Working fulltime</td>\n",
       "      <td>1</td>\n",
       "    </tr>\n",
       "    <tr>\n",
       "      <th>1</th>\n",
       "      <td>2000</td>\n",
       "      <td>Fair</td>\n",
       "      <td>Pretty happy</td>\n",
       "      <td>W. sou. central</td>\n",
       "      <td>$8000 to 9999</td>\n",
       "      <td>White</td>\n",
       "      <td>Female</td>\n",
       "      <td>High school</td>\n",
       "      <td>48</td>\n",
       "      <td>Divorced</td>\n",
       "      <td>Working fulltime</td>\n",
       "      <td>2</td>\n",
       "    </tr>\n",
       "    <tr>\n",
       "      <th>2</th>\n",
       "      <td>2000</td>\n",
       "      <td>Good</td>\n",
       "      <td>Pretty happy</td>\n",
       "      <td>W. sou. central</td>\n",
       "      <td>NaN</td>\n",
       "      <td>White</td>\n",
       "      <td>Female</td>\n",
       "      <td>High school</td>\n",
       "      <td>67</td>\n",
       "      <td>Widowed</td>\n",
       "      <td>Keeping house</td>\n",
       "      <td>3</td>\n",
       "    </tr>\n",
       "    <tr>\n",
       "      <th>3</th>\n",
       "      <td>2000</td>\n",
       "      <td>NaN</td>\n",
       "      <td>Very happy</td>\n",
       "      <td>W. sou. central</td>\n",
       "      <td>NaN</td>\n",
       "      <td>White</td>\n",
       "      <td>Female</td>\n",
       "      <td>High school</td>\n",
       "      <td>39</td>\n",
       "      <td>Never married</td>\n",
       "      <td>Working fulltime</td>\n",
       "      <td>4</td>\n",
       "    </tr>\n",
       "    <tr>\n",
       "      <th>4</th>\n",
       "      <td>2000</td>\n",
       "      <td>NaN</td>\n",
       "      <td>Pretty happy</td>\n",
       "      <td>W. sou. central</td>\n",
       "      <td>NaN</td>\n",
       "      <td>White</td>\n",
       "      <td>Female</td>\n",
       "      <td>Junior college</td>\n",
       "      <td>25</td>\n",
       "      <td>Divorced</td>\n",
       "      <td>Working fulltime</td>\n",
       "      <td>5</td>\n",
       "    </tr>\n",
       "  </tbody>\n",
       "</table>\n",
       "</div>"
      ],
      "text/plain": [
       "   Year Health Condition General happiness      U.S. Region         Income  \\\n",
       "0  2000        Excellent      Pretty happy  W. sou. central  $8000 to 9999   \n",
       "1  2000             Fair      Pretty happy  W. sou. central  $8000 to 9999   \n",
       "2  2000             Good      Pretty happy  W. sou. central            NaN   \n",
       "3  2000              NaN        Very happy  W. sou. central            NaN   \n",
       "4  2000              NaN      Pretty happy  W. sou. central            NaN   \n",
       "\n",
       "    Race     Sex  Highest Degree Age Marital status       Work Status  ID  \n",
       "0  White    Male        Bachelor  26  Never married  Working fulltime   1  \n",
       "1  White  Female     High school  48       Divorced  Working fulltime   2  \n",
       "2  White  Female     High school  67        Widowed     Keeping house   3  \n",
       "3  White  Female     High school  39  Never married  Working fulltime   4  \n",
       "4  White  Female  Junior college  25       Divorced  Working fulltime   5  "
      ]
     },
     "execution_count": 49,
     "metadata": {},
     "output_type": "execute_result"
    }
   ],
   "source": [
    "# observe first few rows of dataset\n",
    "df.head()"
   ]
  },
  {
   "cell_type": "code",
   "execution_count": 50,
   "metadata": {},
   "outputs": [
    {
     "data": {
      "text/html": [
       "<div>\n",
       "<style scoped>\n",
       "    .dataframe tbody tr th:only-of-type {\n",
       "        vertical-align: middle;\n",
       "    }\n",
       "\n",
       "    .dataframe tbody tr th {\n",
       "        vertical-align: top;\n",
       "    }\n",
       "\n",
       "    .dataframe thead th {\n",
       "        text-align: right;\n",
       "    }\n",
       "</style>\n",
       "<table border=\"1\" class=\"dataframe\">\n",
       "  <thead>\n",
       "    <tr style=\"text-align: right;\">\n",
       "      <th></th>\n",
       "      <th>Year</th>\n",
       "      <th>Health Condition</th>\n",
       "      <th>General happiness</th>\n",
       "      <th>U.S. Region</th>\n",
       "      <th>Income</th>\n",
       "      <th>Race</th>\n",
       "      <th>Sex</th>\n",
       "      <th>Highest Degree</th>\n",
       "      <th>Age</th>\n",
       "      <th>Marital status</th>\n",
       "      <th>Work Status</th>\n",
       "      <th>ID</th>\n",
       "    </tr>\n",
       "  </thead>\n",
       "  <tbody>\n",
       "    <tr>\n",
       "      <th>24345</th>\n",
       "      <td>2016</td>\n",
       "      <td>NaN</td>\n",
       "      <td>Pretty happy</td>\n",
       "      <td>New england</td>\n",
       "      <td>$25000 or more</td>\n",
       "      <td>White</td>\n",
       "      <td>Female</td>\n",
       "      <td>Graduate</td>\n",
       "      <td>57</td>\n",
       "      <td>Married</td>\n",
       "      <td>Working fulltime</td>\n",
       "      <td>2863</td>\n",
       "    </tr>\n",
       "    <tr>\n",
       "      <th>24346</th>\n",
       "      <td>2016</td>\n",
       "      <td>Good</td>\n",
       "      <td>Pretty happy</td>\n",
       "      <td>New england</td>\n",
       "      <td>NaN</td>\n",
       "      <td>White</td>\n",
       "      <td>Male</td>\n",
       "      <td>High school</td>\n",
       "      <td>77</td>\n",
       "      <td>Widowed</td>\n",
       "      <td>Working fulltime</td>\n",
       "      <td>2864</td>\n",
       "    </tr>\n",
       "    <tr>\n",
       "      <th>24347</th>\n",
       "      <td>2016</td>\n",
       "      <td>NaN</td>\n",
       "      <td>Pretty happy</td>\n",
       "      <td>New england</td>\n",
       "      <td>NaN</td>\n",
       "      <td>White</td>\n",
       "      <td>Female</td>\n",
       "      <td>High school</td>\n",
       "      <td>87</td>\n",
       "      <td>Married</td>\n",
       "      <td>Keeping house</td>\n",
       "      <td>2865</td>\n",
       "    </tr>\n",
       "    <tr>\n",
       "      <th>24348</th>\n",
       "      <td>2016</td>\n",
       "      <td>Good</td>\n",
       "      <td>Very happy</td>\n",
       "      <td>New england</td>\n",
       "      <td>$10000 - 14999</td>\n",
       "      <td>White</td>\n",
       "      <td>Female</td>\n",
       "      <td>High school</td>\n",
       "      <td>55</td>\n",
       "      <td>Married</td>\n",
       "      <td>Working fulltime</td>\n",
       "      <td>2866</td>\n",
       "    </tr>\n",
       "    <tr>\n",
       "      <th>24349</th>\n",
       "      <td>2016</td>\n",
       "      <td>Good</td>\n",
       "      <td>Pretty happy</td>\n",
       "      <td>New england</td>\n",
       "      <td>NaN</td>\n",
       "      <td>White</td>\n",
       "      <td>Male</td>\n",
       "      <td>Bachelor</td>\n",
       "      <td>72</td>\n",
       "      <td>Married</td>\n",
       "      <td>Retired</td>\n",
       "      <td>2867</td>\n",
       "    </tr>\n",
       "  </tbody>\n",
       "</table>\n",
       "</div>"
      ],
      "text/plain": [
       "       Year Health Condition General happiness  U.S. Region          Income  \\\n",
       "24345  2016              NaN      Pretty happy  New england  $25000 or more   \n",
       "24346  2016             Good      Pretty happy  New england             NaN   \n",
       "24347  2016              NaN      Pretty happy  New england             NaN   \n",
       "24348  2016             Good        Very happy  New england  $10000 - 14999   \n",
       "24349  2016             Good      Pretty happy  New england             NaN   \n",
       "\n",
       "        Race     Sex Highest Degree Age Marital status       Work Status    ID  \n",
       "24345  White  Female       Graduate  57        Married  Working fulltime  2863  \n",
       "24346  White    Male    High school  77        Widowed  Working fulltime  2864  \n",
       "24347  White  Female    High school  87        Married     Keeping house  2865  \n",
       "24348  White  Female    High school  55        Married  Working fulltime  2866  \n",
       "24349  White    Male       Bachelor  72        Married           Retired  2867  "
      ]
     },
     "execution_count": 50,
     "metadata": {},
     "output_type": "execute_result"
    }
   ],
   "source": [
    "# observe last few rows of dataset\n",
    "df.tail()"
   ]
  },
  {
   "cell_type": "code",
   "execution_count": 56,
   "metadata": {},
   "outputs": [
    {
     "data": {
      "text/html": [
       "<div>\n",
       "<style scoped>\n",
       "    .dataframe tbody tr th:only-of-type {\n",
       "        vertical-align: middle;\n",
       "    }\n",
       "\n",
       "    .dataframe tbody tr th {\n",
       "        vertical-align: top;\n",
       "    }\n",
       "\n",
       "    .dataframe thead th {\n",
       "        text-align: right;\n",
       "    }\n",
       "</style>\n",
       "<table border=\"1\" class=\"dataframe\">\n",
       "  <thead>\n",
       "    <tr style=\"text-align: right;\">\n",
       "      <th></th>\n",
       "      <th>Year</th>\n",
       "      <th>Health Condition</th>\n",
       "      <th>General happiness</th>\n",
       "      <th>U.S. Region</th>\n",
       "      <th>Income</th>\n",
       "      <th>Race</th>\n",
       "      <th>Sex</th>\n",
       "      <th>Highest Degree</th>\n",
       "      <th>Age</th>\n",
       "      <th>Marital status</th>\n",
       "      <th>Work Status</th>\n",
       "      <th>ID</th>\n",
       "    </tr>\n",
       "  </thead>\n",
       "  <tbody>\n",
       "    <tr>\n",
       "      <th>0</th>\n",
       "      <td>2000</td>\n",
       "      <td>Excellent</td>\n",
       "      <td>Pretty happy</td>\n",
       "      <td>W. sou. central</td>\n",
       "      <td>$8000 to 9999</td>\n",
       "      <td>White</td>\n",
       "      <td>Male</td>\n",
       "      <td>Bachelor</td>\n",
       "      <td>26</td>\n",
       "      <td>Never married</td>\n",
       "      <td>Working fulltime</td>\n",
       "      <td>1</td>\n",
       "    </tr>\n",
       "    <tr>\n",
       "      <th>1</th>\n",
       "      <td>2000</td>\n",
       "      <td>Fair</td>\n",
       "      <td>Pretty happy</td>\n",
       "      <td>W. sou. central</td>\n",
       "      <td>$8000 to 9999</td>\n",
       "      <td>White</td>\n",
       "      <td>Female</td>\n",
       "      <td>High school</td>\n",
       "      <td>48</td>\n",
       "      <td>Divorced</td>\n",
       "      <td>Working fulltime</td>\n",
       "      <td>2</td>\n",
       "    </tr>\n",
       "    <tr>\n",
       "      <th>5</th>\n",
       "      <td>2000</td>\n",
       "      <td>Good</td>\n",
       "      <td>Pretty happy</td>\n",
       "      <td>W. sou. central</td>\n",
       "      <td>$20000 - 24999</td>\n",
       "      <td>White</td>\n",
       "      <td>Female</td>\n",
       "      <td>High school</td>\n",
       "      <td>25</td>\n",
       "      <td>Married</td>\n",
       "      <td>Working fulltime</td>\n",
       "      <td>6</td>\n",
       "    </tr>\n",
       "    <tr>\n",
       "      <th>6</th>\n",
       "      <td>2000</td>\n",
       "      <td>Good</td>\n",
       "      <td>Very happy</td>\n",
       "      <td>W. sou. central</td>\n",
       "      <td>$25000 or more</td>\n",
       "      <td>White</td>\n",
       "      <td>Male</td>\n",
       "      <td>High school</td>\n",
       "      <td>36</td>\n",
       "      <td>Never married</td>\n",
       "      <td>Working fulltime</td>\n",
       "      <td>7</td>\n",
       "    </tr>\n",
       "    <tr>\n",
       "      <th>7</th>\n",
       "      <td>2000</td>\n",
       "      <td>Good</td>\n",
       "      <td>Pretty happy</td>\n",
       "      <td>W. sou. central</td>\n",
       "      <td>$7000 to 7999</td>\n",
       "      <td>White</td>\n",
       "      <td>Female</td>\n",
       "      <td>Junior college</td>\n",
       "      <td>44</td>\n",
       "      <td>Divorced</td>\n",
       "      <td>Working fulltime</td>\n",
       "      <td>8</td>\n",
       "    </tr>\n",
       "  </tbody>\n",
       "</table>\n",
       "</div>"
      ],
      "text/plain": [
       "   Year Health Condition General happiness      U.S. Region          Income  \\\n",
       "0  2000        Excellent      Pretty happy  W. sou. central   $8000 to 9999   \n",
       "1  2000             Fair      Pretty happy  W. sou. central   $8000 to 9999   \n",
       "5  2000             Good      Pretty happy  W. sou. central  $20000 - 24999   \n",
       "6  2000             Good        Very happy  W. sou. central  $25000 or more   \n",
       "7  2000             Good      Pretty happy  W. sou. central   $7000 to 7999   \n",
       "\n",
       "    Race     Sex  Highest Degree Age Marital status       Work Status  ID  \n",
       "0  White    Male        Bachelor  26  Never married  Working fulltime   1  \n",
       "1  White  Female     High school  48       Divorced  Working fulltime   2  \n",
       "5  White  Female     High school  25        Married  Working fulltime   6  \n",
       "6  White    Male     High school  36  Never married  Working fulltime   7  \n",
       "7  White  Female  Junior college  44       Divorced  Working fulltime   8  "
      ]
     },
     "execution_count": 56,
     "metadata": {},
     "output_type": "execute_result"
    }
   ],
   "source": [
    "# Now can drop rows that contain \"NaN\"\n",
    "dfclean = df.dropna()\n",
    "dfclean.head()"
   ]
  },
  {
   "cell_type": "code",
   "execution_count": 54,
   "metadata": {},
   "outputs": [
    {
     "data": {
      "text/plain": [
       "(9069, 12)"
      ]
     },
     "execution_count": 54,
     "metadata": {},
     "output_type": "execute_result"
    }
   ],
   "source": [
    "dfclean.shape"
   ]
  },
  {
   "cell_type": "code",
   "execution_count": 61,
   "metadata": {},
   "outputs": [],
   "source": [
    "YearGroup = dfclean.groupby(\"Year\")"
   ]
  },
  {
   "cell_type": "code",
   "execution_count": null,
   "metadata": {},
   "outputs": [],
   "source": []
  },
  {
   "cell_type": "code",
   "execution_count": null,
   "metadata": {},
   "outputs": [],
   "source": []
  },
  {
   "cell_type": "code",
   "execution_count": null,
   "metadata": {},
   "outputs": [],
   "source": []
  },
  {
   "cell_type": "code",
   "execution_count": null,
   "metadata": {},
   "outputs": [],
   "source": []
  },
  {
   "cell_type": "code",
   "execution_count": null,
   "metadata": {
    "scrolled": true
   },
   "outputs": [],
   "source": []
  },
  {
   "cell_type": "code",
   "execution_count": null,
   "metadata": {},
   "outputs": [],
   "source": []
  },
  {
   "cell_type": "code",
   "execution_count": null,
   "metadata": {},
   "outputs": [],
   "source": []
  },
  {
   "cell_type": "code",
   "execution_count": null,
   "metadata": {},
   "outputs": [],
   "source": []
  },
  {
   "cell_type": "code",
   "execution_count": null,
   "metadata": {},
   "outputs": [],
   "source": []
  },
  {
   "cell_type": "code",
   "execution_count": null,
   "metadata": {},
   "outputs": [],
   "source": []
  },
  {
   "cell_type": "code",
   "execution_count": null,
   "metadata": {},
   "outputs": [],
   "source": []
  },
  {
   "cell_type": "code",
   "execution_count": null,
   "metadata": {},
   "outputs": [],
   "source": []
  },
  {
   "cell_type": "code",
   "execution_count": null,
   "metadata": {},
   "outputs": [],
   "source": []
  }
 ],
 "metadata": {
  "kernelspec": {
   "display_name": "Python 3",
   "language": "python",
   "name": "python3"
  },
  "language_info": {
   "codemirror_mode": {
    "name": "ipython",
    "version": 3
   },
   "file_extension": ".py",
   "mimetype": "text/x-python",
   "name": "python",
   "nbconvert_exporter": "python",
   "pygments_lexer": "ipython3",
   "version": "3.6.5"
  }
 },
 "nbformat": 4,
 "nbformat_minor": 2
}
